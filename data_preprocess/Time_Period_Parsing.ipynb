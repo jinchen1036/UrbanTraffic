{
 "cells": [
  {
   "cell_type": "code",
   "execution_count": 5,
   "metadata": {
    "ExecuteTime": {
     "end_time": "2020-11-13T03:31:12.619705Z",
     "start_time": "2020-11-13T03:31:12.616626Z"
    }
   },
   "outputs": [],
   "source": [
    "# **Separate the time period for pre, during Covid-19**\n",
    "# - Pre Covid : anytime before March 2020\n",
    "# - During Covid: anytime after March 2020\n",
    "\n",
    "\n",
    "# **Separate by pick up time period**\n",
    "# - midnight rush hours(12 AM – 1 AM)\n",
    "# - morning rush hours( 6 AM – 10 AM)\n",
    "# - evening rush hours (5 PM – 8 PM)\n",
    "\n",
    "\n",
    "# **Weekdays or Weekend**\n",
    "# - Monday to Friday = weekday\n",
    "# - Saturday and Sunday = weekend\n"
   ]
  },
  {
   "cell_type": "code",
   "execution_count": 69,
   "metadata": {
    "ExecuteTime": {
     "end_time": "2020-11-13T03:03:44.483977Z",
     "start_time": "2020-11-13T03:03:44.480463Z"
    }
   },
   "outputs": [],
   "source": [
    "import pandas as pd\n",
    "import numpy as np\n",
    "import h5py\n",
    "import vaex\n",
    "import datetime as dt"
   ]
  },
  {
   "cell_type": "code",
   "execution_count": 70,
   "metadata": {
    "ExecuteTime": {
     "end_time": "2020-11-13T03:03:46.110813Z",
     "start_time": "2020-11-13T03:03:46.106652Z"
    }
   },
   "outputs": [],
   "source": [
    "#specify file name\n",
    "filename = 'yellow_taxi_2020_03.hdf5'\n",
    "\n",
    "#load in file\n",
    "df = vaex.open(filename)"
   ]
  },
  {
   "cell_type": "code",
   "execution_count": 80,
   "metadata": {
    "ExecuteTime": {
     "end_time": "2020-11-13T03:04:54.674275Z",
     "start_time": "2020-11-13T03:04:54.651926Z"
    }
   },
   "outputs": [],
   "source": [
    "#Build a function to separate the time period for pre, during and post Covid-19\n",
    "def covid__period(x):\n",
    "    if (x.year >= 2020) & (x.month >= 3):\n",
    "        return \"In Covid\"\n",
    "    else:\n",
    "        return \"Pre-Covid\"\n"
   ]
  },
  {
   "cell_type": "code",
   "execution_count": 84,
   "metadata": {
    "ExecuteTime": {
     "end_time": "2020-11-13T03:05:46.897455Z",
     "start_time": "2020-11-13T03:05:46.879031Z"
    }
   },
   "outputs": [],
   "source": [
    "#Build a function to separate by pick up time period\n",
    "def pick_up_time_period(x):\n",
    "    if (x.hour >= 0) & (x.hour <= 1):\n",
    "        return \"mid-night rush hours\"\n",
    "    elif (x.hour >= 6) & (x.hour <= 10):\n",
    "        return \"morning rush hours\"\n",
    "    elif (x.hour >= 17) & (x.hour <= 20):\n",
    "        return \"evening rush hours\"\n",
    "    else:\n",
    "        return \"off-peak hours\"\n",
    "    \n"
   ]
  },
  {
   "cell_type": "code",
   "execution_count": 102,
   "metadata": {
    "ExecuteTime": {
     "end_time": "2020-11-13T03:20:42.992044Z",
     "start_time": "2020-11-13T03:20:42.971927Z"
    }
   },
   "outputs": [],
   "source": [
    "# Build a function to parse weekdays or weekend\n",
    "def weekday_or_weekend(x):\n",
    "    weekDays = (\"Monday\",\"Tuesday\",\"Wednesday\",\"Thursday\",\"Friday\",\"Saturday\",\"Sunday\")\n",
    "    day_of_the_week = x.weekday()\n",
    "    day_of_the_week_as_string = weekDays[day_of_the_week]\n",
    "    if (day_of_the_week_as_string == \"Saturday\") | (day_of_the_week_as_string == \"Sunday\"):\n",
    "        return \"Weekend\"\n",
    "    else:\n",
    "        return \"Weekday\"\n",
    "\n",
    "    \n"
   ]
  },
  {
   "cell_type": "code",
   "execution_count": null,
   "metadata": {},
   "outputs": [],
   "source": [
    "#Apply the covid period function onto the dataframe to distinguish Pre and during covid pickups\n",
    "df['COVID_Period']=df['pickup_time'].apply(pd.to_datetime).apply(covid__period)\n",
    "\n",
    "\n",
    "#Apply the pick up time period function onto the dataframe to distinguish rush hours and off peak hours pickups\n",
    "df['pick_up_time_period']=df['pickup_time'].apply(pd.to_datetime).apply(pick_up_time_period)\n",
    "\n",
    "\n",
    "#Apply the pick up time period function onto the dataframe to distinguish weekday and weekend pickups\n",
    "df['weekday_or_weekend']=df['pickup_time'].apply(pd.to_datetime).apply(weekday_or_weekend)\n"
   ]
  }
 ],
 "metadata": {
  "hide_input": false,
  "kernelspec": {
   "display_name": "Python 3",
   "language": "python",
   "name": "python3"
  },
  "language_info": {
   "codemirror_mode": {
    "name": "ipython",
    "version": 3
   },
   "file_extension": ".py",
   "mimetype": "text/x-python",
   "name": "python",
   "nbconvert_exporter": "python",
   "pygments_lexer": "ipython3",
   "version": "3.8.3"
  },
  "toc": {
   "base_numbering": 1,
   "nav_menu": {},
   "number_sections": true,
   "sideBar": true,
   "skip_h1_title": false,
   "title_cell": "Table of Contents",
   "title_sidebar": "Contents",
   "toc_cell": false,
   "toc_position": {},
   "toc_section_display": true,
   "toc_window_display": false
  }
 },
 "nbformat": 4,
 "nbformat_minor": 4
}
